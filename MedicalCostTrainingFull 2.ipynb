{
 "cells": [
  {
   "cell_type": "markdown",
   "id": "14863863",
   "metadata": {},
   "source": [
    "# Medical Insurance Cost – Full Training & Debug Notebook 💵🏥\n",
    "\n",
    "This notebook walks through **data exploration, baseline modelling, model improvement, and artefact export** for the Medical Insurance dataset.\n",
    "\n",
    "Run the notebook top‑to‑bottom once. If any cell errors, read the orange **Debug Tips** markdown blocks – they flag the common causes.\n",
    "\n",
    "Outputs used by the Streamlit UI:\n",
    "* `preprocess.pkl`\n",
    "* `feature_names.pkl`\n",
    "* `rf_model.pkl`\n"
   ]
  },
  {
   "cell_type": "code",
   "execution_count": 1,
   "id": "003c8aad",
   "metadata": {},
   "outputs": [
    {
     "name": "stdout",
     "output_type": "stream",
     "text": [
      "✅ libraries imported\n"
     ]
    }
   ],
   "source": [
    "# %% 1. Imports\n",
    "import pandas as pd, numpy as np, pickle, seaborn as sns, matplotlib.pyplot as plt\n",
    "from pathlib import Path\n",
    "from sklearn.model_selection import train_test_split\n",
    "from sklearn.compose import ColumnTransformer\n",
    "from sklearn.preprocessing import OneHotEncoder, StandardScaler\n",
    "from sklearn.linear_model import LinearRegression\n",
    "from sklearn.ensemble import RandomForestRegressor\n",
    "from sklearn.metrics import mean_squared_error, mean_absolute_error, r2_score\n",
    "\n",
    "plt.rcParams['figure.figsize'] = (6,4)\n",
    "print('✅ libraries imported')"
   ]
  },
  {
   "cell_type": "code",
   "execution_count": 2,
   "id": "06dbe3eb",
   "metadata": {},
   "outputs": [
    {
     "data": {
      "text/html": [
       "<div>\n",
       "<style scoped>\n",
       "    .dataframe tbody tr th:only-of-type {\n",
       "        vertical-align: middle;\n",
       "    }\n",
       "\n",
       "    .dataframe tbody tr th {\n",
       "        vertical-align: top;\n",
       "    }\n",
       "\n",
       "    .dataframe thead th {\n",
       "        text-align: right;\n",
       "    }\n",
       "</style>\n",
       "<table border=\"1\" class=\"dataframe\">\n",
       "  <thead>\n",
       "    <tr style=\"text-align: right;\">\n",
       "      <th></th>\n",
       "      <th>age</th>\n",
       "      <th>sex</th>\n",
       "      <th>bmi</th>\n",
       "      <th>children</th>\n",
       "      <th>smoker</th>\n",
       "      <th>region</th>\n",
       "      <th>charges</th>\n",
       "    </tr>\n",
       "  </thead>\n",
       "  <tbody>\n",
       "    <tr>\n",
       "      <th>0</th>\n",
       "      <td>19</td>\n",
       "      <td>female</td>\n",
       "      <td>27.900</td>\n",
       "      <td>0</td>\n",
       "      <td>yes</td>\n",
       "      <td>southwest</td>\n",
       "      <td>16884.92400</td>\n",
       "    </tr>\n",
       "    <tr>\n",
       "      <th>1</th>\n",
       "      <td>18</td>\n",
       "      <td>male</td>\n",
       "      <td>33.770</td>\n",
       "      <td>1</td>\n",
       "      <td>no</td>\n",
       "      <td>southeast</td>\n",
       "      <td>1725.55230</td>\n",
       "    </tr>\n",
       "    <tr>\n",
       "      <th>2</th>\n",
       "      <td>28</td>\n",
       "      <td>male</td>\n",
       "      <td>33.000</td>\n",
       "      <td>3</td>\n",
       "      <td>no</td>\n",
       "      <td>southeast</td>\n",
       "      <td>4449.46200</td>\n",
       "    </tr>\n",
       "    <tr>\n",
       "      <th>3</th>\n",
       "      <td>33</td>\n",
       "      <td>male</td>\n",
       "      <td>22.705</td>\n",
       "      <td>0</td>\n",
       "      <td>no</td>\n",
       "      <td>northwest</td>\n",
       "      <td>21984.47061</td>\n",
       "    </tr>\n",
       "    <tr>\n",
       "      <th>4</th>\n",
       "      <td>32</td>\n",
       "      <td>male</td>\n",
       "      <td>28.880</td>\n",
       "      <td>0</td>\n",
       "      <td>no</td>\n",
       "      <td>northwest</td>\n",
       "      <td>3866.85520</td>\n",
       "    </tr>\n",
       "  </tbody>\n",
       "</table>\n",
       "</div>"
      ],
      "text/plain": [
       "   age     sex     bmi  children smoker     region      charges\n",
       "0   19  female  27.900         0    yes  southwest  16884.92400\n",
       "1   18    male  33.770         1     no  southeast   1725.55230\n",
       "2   28    male  33.000         3     no  southeast   4449.46200\n",
       "3   33    male  22.705         0     no  northwest  21984.47061\n",
       "4   32    male  28.880         0     no  northwest   3866.85520"
      ]
     },
     "metadata": {},
     "output_type": "display_data"
    },
    {
     "name": "stdout",
     "output_type": "stream",
     "text": [
      "<class 'pandas.core.frame.DataFrame'>\n",
      "RangeIndex: 2772 entries, 0 to 2771\n",
      "Data columns (total 7 columns):\n",
      " #   Column    Non-Null Count  Dtype  \n",
      "---  ------    --------------  -----  \n",
      " 0   age       2772 non-null   int64  \n",
      " 1   sex       2772 non-null   object \n",
      " 2   bmi       2772 non-null   float64\n",
      " 3   children  2772 non-null   int64  \n",
      " 4   smoker    2772 non-null   object \n",
      " 5   region    2772 non-null   object \n",
      " 6   charges   2772 non-null   float64\n",
      "dtypes: float64(2), int64(2), object(3)\n",
      "memory usage: 151.7+ KB\n"
     ]
    }
   ],
   "source": [
    "# %% 2. Load data\n",
    "DATA = Path('medical_insurance.csv')  # change if needed\n",
    "df = pd.read_csv(DATA)\n",
    "\n",
    "display(df.head())\n",
    "df.info()"
   ]
  },
  {
   "cell_type": "markdown",
   "id": "c3335e97",
   "metadata": {},
   "source": [
    "## Quick EDA\n",
    "* Distribution plots for numeric variables\n",
    "* Correlation heat‑map\n",
    "* Mean charges by smoker / region"
   ]
  },
  {
   "cell_type": "code",
   "execution_count": 3,
   "id": "d160e970",
   "metadata": {},
   "outputs": [
    {
     "data": {
      "image/png": "[encoded data removed]",
      "text/plain": [
       "<Figure size 432x288 with 4 Axes>"
      ]
     },
     "metadata": {
      "needs_background": "light"
     },
     "output_type": "display_data"
    }
   ],
   "source": [
    "# %% 3a. Numeric distributions\n",
    "num_cols = ['age','bmi','children','charges']\n",
    "df[num_cols].hist(bins=20, layout=(2,2), edgecolor='black')\n",
    "plt.tight_layout();"
   ]
  },
  {
   "cell_type": "code",
   "execution_count": 4,
   "id": "8eea8a95",
   "metadata": {},
   "outputs": [
    {
     "data": {
      "image/png": "[encoded data removed]",
      "text/plain": [
       "<Figure size 432x288 with 2 Axes>"
      ]
     },
     "metadata": {
      "needs_background": "light"
     },
     "output_type": "display_data"
    }
   ],
   "source": [
    "# %% 3b. Correlation heat‑map\n",
    "sns.heatmap(df[num_cols].corr(), annot=True, cmap='viridis');"
   ]
  },
  {
   "cell_type": "code",
   "execution_count": 5,
   "id": "2e90d0b9",
   "metadata": {},
   "outputs": [
    {
     "data": {
      "image/png": "[encoded data removed]",
      "text/plain": [
       "<Figure size 432x288 with 1 Axes>"
      ]
     },
     "metadata": {
      "needs_background": "light"
     },
     "output_type": "display_data"
    },
    {
     "data": {
      "image/png": "[encoded data removed]",
      "text/plain": [
       "<Figure size 432x288 with 1 Axes>"
      ]
     },
     "metadata": {
      "needs_background": "light"
     },
     "output_type": "display_data"
    }
   ],
   "source": [
    "# %% 3c. Charges by smoker & region\n",
    "sns.boxplot(x='smoker', y='charges', data=df); plt.show();\n",
    "sns.boxplot(x='region', y='charges', data=df); plt.xticks(rotation=45); plt.show();"
   ]
  },
  {
   "cell_type": "code",
   "execution_count": 6,
   "id": "a376963f",
   "metadata": {},
   "outputs": [
    {
     "name": "stdout",
     "output_type": "stream",
     "text": [
      "(2217, 6) (555, 6)\n"
     ]
    }
   ],
   "source": [
    "# %% 4. Train/Valid split\n",
    "y = df['charges']\n",
    "X = df.drop(columns='charges')\n",
    "cat_cols = ['sex','smoker','region']\n",
    "num_cols = ['age','bmi','children']\n",
    "\n",
    "X_train, X_valid, y_train, y_valid = train_test_split(\n",
    "    X, y, test_size=0.2, random_state=42, stratify=df['smoker'])\n",
    "print(X_train.shape, X_valid.shape)"
   ]
  },
  {
   "cell_type": "code",
   "execution_count": 7,
   "id": "3fb5f4d4",
   "metadata": {},
   "outputs": [
    {
     "name": "stdout",
     "output_type": "stream",
     "text": [
      "Feature matrix shape: (2217, 11)\n"
     ]
    }
   ],
   "source": [
    "# %% 5. Preprocessing pipeline\n",
    "preprocess = ColumnTransformer([\n",
    "    ('num', StandardScaler(), num_cols),\n",
    "    ('cat', OneHotEncoder(handle_unknown='ignore'), cat_cols)\n",
    "])\n",
    "preprocess.fit(X_train)  # ⚠️ Must run before any .transform or model.fit\n",
    "\n",
    "X_train_t = preprocess.transform(X_train)\n",
    "X_valid_t = preprocess.transform(X_valid)\n",
    "\n",
    "feature_names = list(preprocess.named_transformers_['num'].get_feature_names_out(num_cols)) + \\\n",
    "                list(preprocess.named_transformers_['cat'].get_feature_names_out(cat_cols))\n",
    "print('Feature matrix shape:', X_train_t.shape)"
   ]
  },
  {
   "cell_type": "code",
   "execution_count": 8,
   "id": "8d6bff36",
   "metadata": {},
   "outputs": [
    {
     "data": {
      "text/plain": [
       "RMSE    6228.651739\n",
       "MAE     4371.398819\n",
       "R2         0.726818\n",
       "dtype: float64"
      ]
     },
     "execution_count": 8,
     "metadata": {},
     "output_type": "execute_result"
    }
   ],
   "source": [
    "# %% 6. Baseline Multiple Linear Regression\n",
    "lin = LinearRegression()\n",
    "lin.fit(X_train_t, y_train)\n",
    "pred_lin = lin.predict(X_valid_t)\n",
    "\n",
    "def metrics(y_true, y_pred):\n",
    "    return pd.Series({\n",
    "        'RMSE': mean_squared_error(y_true, y_pred, squared=False),\n",
    "        'MAE' : mean_absolute_error(y_true, y_pred),\n",
    "        'R2'  : r2_score(y_true, y_pred)\n",
    "\n",
    "    })\n",
    "\n",
    "def metrics(y_true, y_pred):\n",
    "    return pd.Series({\n",
    "        'RMSE': mean_squared_error(y_true, y_pred) ** 0.5,\n",
    "        'MAE' : mean_absolute_error(y_true, y_pred),\n",
    "        'R2'  : r2_score(y_true, y_pred)\n",
    "    })\n",
    "\n",
    "baseline_metrics = metrics(y_valid, pred_lin)\n",
    "baseline_metrics"
   ]
  },
  {
   "cell_type": "code",
   "execution_count": 9,
   "id": "439b3693",
   "metadata": {},
   "outputs": [
    {
     "data": {
      "text/html": [
       "<div>\n",
       "<style scoped>\n",
       "    .dataframe tbody tr th:only-of-type {\n",
       "        vertical-align: middle;\n",
       "    }\n",
       "\n",
       "    .dataframe tbody tr th {\n",
       "        vertical-align: top;\n",
       "    }\n",
       "\n",
       "    .dataframe thead th {\n",
       "        text-align: right;\n",
       "    }\n",
       "</style>\n",
       "<table border=\"1\" class=\"dataframe\">\n",
       "  <thead>\n",
       "    <tr style=\"text-align: right;\">\n",
       "      <th></th>\n",
       "      <th>LinearReg</th>\n",
       "      <th>RandomForest</th>\n",
       "    </tr>\n",
       "  </thead>\n",
       "  <tbody>\n",
       "    <tr>\n",
       "      <th>RMSE</th>\n",
       "      <td>6228.651739</td>\n",
       "      <td>2902.671267</td>\n",
       "    </tr>\n",
       "    <tr>\n",
       "      <th>MAE</th>\n",
       "      <td>4371.398819</td>\n",
       "      <td>1387.168359</td>\n",
       "    </tr>\n",
       "    <tr>\n",
       "      <th>R2</th>\n",
       "      <td>0.726818</td>\n",
       "      <td>0.940672</td>\n",
       "    </tr>\n",
       "  </tbody>\n",
       "</table>\n",
       "</div>"
      ],
      "text/plain": [
       "        LinearReg  RandomForest\n",
       "RMSE  6228.651739   2902.671267\n",
       "MAE   4371.398819   1387.168359\n",
       "R2       0.726818      0.940672"
      ]
     },
     "execution_count": 9,
     "metadata": {},
     "output_type": "execute_result"
    }
   ],
   "source": [
    "# %% 7. Random‑Forest Regressor (improved model)\n",
    "rf = RandomForestRegressor(n_estimators=300, random_state=42, n_jobs=-1)\n",
    "rf.fit(X_train_t, y_train)\n",
    "pred_rf = rf.predict(X_valid_t)\n",
    "rf_metrics = metrics(y_valid, pred_rf)\n",
    "\n",
    "pd.DataFrame({'LinearReg': baseline_metrics, 'RandomForest': rf_metrics})"
   ]
  },
  {
   "cell_type": "code",
   "execution_count": 10,
   "id": "95bc3105",
   "metadata": {},
   "outputs": [
    {
     "data": {
      "image/png": "[encoded data removed]",
      "text/plain": [
       "<Figure size 432x288 with 1 Axes>"
      ]
     },
     "metadata": {
      "needs_background": "light"
     },
     "output_type": "display_data"
    }
   ],
   "source": [
    "# %% 8. Feature importance (RF)\n",
    "importances = pd.Series(rf.feature_importances_, index=feature_names).sort_values(ascending=False)[:15]\n",
    "importances.plot.barh(); plt.gca().invert_yaxis(); plt.title('Top 15 Feature Importances');"
   ]
  },
  {
   "cell_type": "code",
   "execution_count": 11,
   "id": "bcc6bdf5",
   "metadata": {},
   "outputs": [
    {
     "name": "stdout",
     "output_type": "stream",
     "text": [
      "✅ Saved preprocess.pkl, feature_names.pkl, rf_model.pkl\n"
     ]
    }
   ],
   "source": [
    "# %% 9. Export artefacts for Streamlit\n",
    "OUT = Path('.')\n",
    "pickle.dump(preprocess, open(OUT/'preprocess.pkl','wb'))\n",
    "pickle.dump(feature_names, open(OUT/'feature_names.pkl','wb'))\n",
    "pickle.dump(rf, open(OUT/'rf_model.pkl','wb'))\n",
    "\n",
    "print('✅ Saved preprocess.pkl, feature_names.pkl, rf_model.pkl')"
   ]
  },
  {
   "cell_type": "markdown",
   "id": "41ab3177",
   "metadata": {},
   "source": [
    "### ⚠️ Debug tips\n",
    "* **NotFittedError** → you forgot `preprocess.fit()` before transform or model.fit.\n",
    "* **ValueError: number of features** → `raw_input` in Streamlit not matching `feature_names` order.\n",
    "* **EOFError loading pkl** → wrong working directory; check `Path.cwd()` or move files."
   ]
  }
 ],
 "metadata": {
  "kernelspec": {
   "display_name": "Python 3",
   "language": "python",
   "name": "python3"
  },
  "language_info": {
   "codemirror_mode": {
    "name": "ipython",
    "version": 3
   },
   "file_extension": ".py",
   "mimetype": "text/x-python",
   "name": "python",
   "nbconvert_exporter": "python",
   "pygments_lexer": "ipython3",
   "version": "3.10.2"
  }
 },
 "nbformat": 4,
 "nbformat_minor": 5
}
